{
 "cells": [
  {
   "cell_type": "code",
   "execution_count": null,
   "metadata": {},
   "outputs": [],
   "source": [
    "import numpy as np\n",
    "import cv2\n",
    "\n",
    "# cv2.getGaborKernel(ksize, sigma, theta, lambda, gamma, psi, ktype)\n",
    "# ksize - size of gabor filter (n, n)\n",
    "# sigma - standard deviation of the gaussian function\n",
    "# theta - orientation of the normal to the parallel stripes\n",
    "# lambda - wavelength of the sunusoidal factor\n",
    "# gamma - spatial aspect ratio\n",
    "# psi - phase offset\n",
    "# ktype - type and range of values that each pixel in the gabor kernel can hold\n",
    "\n",
    "g_kernel = cv2.getGaborKernel((21, 21), 8.0, np.pi/4, 10.0, 0.5, 0, ktype=cv2.CV_32F)\n",
    "\n",
    "img = cv2.imread('test.jpg')\n",
    "img = cv2.cvtColor(img, cv2.COLOR_BGR2GRAY)\n",
    "filtered_img = cv2.filter2D(img, cv2.CV_8UC3, g_kernel)\n",
    "\n",
    "cv2.imshow('image', img)\n",
    "cv2.imshow('filtered image', filtered_img)\n",
    "\n",
    "h, w = g_kernel.shape[:2]\n",
    "g_kernel = cv2.resize(g_kernel, (3*w, 3*h), interpolation=cv2.INTER_CUBIC)\n",
    "cv2.imshow('gabor kernel (resized)', g_kernel)\n",
    "cv2.waitKey(0)\n",
    "cv2.destroyAllWindows()"
   ]
  }
 ],
 "metadata": {
  "kernelspec": {
   "display_name": "py35(env1_1)",
   "language": "python",
   "name": "env1_1"
  },
  "language_info": {
   "codemirror_mode": {
    "name": "ipython",
    "version": 3
   },
   "file_extension": ".py",
   "mimetype": "text/x-python",
   "name": "python",
   "nbconvert_exporter": "python",
   "pygments_lexer": "ipython3",
   "version": "3.5.4"
  }
 },
 "nbformat": 4,
 "nbformat_minor": 2
}
